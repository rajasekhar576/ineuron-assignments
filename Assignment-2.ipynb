{
 "cells": [
  {
   "cell_type": "markdown",
   "metadata": {},
   "source": [
    "## Assignment-2"
   ]
  },
  {
   "cell_type": "markdown",
   "metadata": {},
   "source": [
    "#### 1.1 Write a Python Program to implement your own myreduce() function which works exactly like Python's built-in function reduce()"
   ]
  },
  {
   "cell_type": "code",
   "execution_count": 1,
   "metadata": {},
   "outputs": [],
   "source": [
    "def myreduce(*args):\n",
    "    no_args = len(args)\n",
    "    if no_args==2:                          # minimum number of arguments should be 2\n",
    "        function = args[0]\n",
    "        seq = args[1]\n",
    "        if len(seq)==0:\n",
    "            return 'Invalid Syntax. Correct Usage : myreduce(function, sequence[, initial])'\n",
    "        elif len(seq)==1:\n",
    "            return seq[0]\n",
    "        else:\n",
    "            result = seq[0]\n",
    "            for i in seq[1:]:\n",
    "                result = function(result,i)\n",
    "            return result\n",
    "    else:\n",
    "        return 'Invalid Syntax. Correct Usage : myreduce(function, sequence[, initial])'"
   ]
  },
  {
   "cell_type": "code",
   "execution_count": 2,
   "metadata": {},
   "outputs": [
    {
     "name": "stdout",
     "output_type": "stream",
     "text": [
      "11\n",
      "-1\n",
      "120\n",
      "python\n",
      "9\n"
     ]
    }
   ],
   "source": [
    "print(myreduce(lambda a,b : a+b, [7,1,3]))\n",
    "print(myreduce(lambda a,b : a-b, [5,1,3,2]))\n",
    "print(myreduce(lambda a,b : a*b, range(1,6)))\n",
    "print(myreduce(lambda a,b : a+b, ['p','y','t','h','o','n']))\n",
    "print(myreduce(lambda a,b : a if a>b else b, [1,3,5,9,0,4]))"
   ]
  },
  {
   "cell_type": "markdown",
   "metadata": {},
   "source": [
    "#### 1.2 Write a Python program to implement your own myfilter() function which works exactly like Python's built-in function filter()"
   ]
  },
  {
   "cell_type": "code",
   "execution_count": 3,
   "metadata": {},
   "outputs": [],
   "source": [
    "def myfilter(fun, seq):\n",
    "    for i in range(len(seq)):\n",
    "        if fun(seq[i])==True:\n",
    "            yield seq[i]"
   ]
  },
  {
   "cell_type": "code",
   "execution_count": 4,
   "metadata": {},
   "outputs": [
    {
     "data": {
      "text/plain": [
       "[12, 54, 102, 50, 70]"
      ]
     },
     "execution_count": 4,
     "metadata": {},
     "output_type": "execute_result"
    }
   ],
   "source": [
    "list(myfilter(lambda x: (x % 2 == 0), [12, 65, 54, 39, 102, 339, 221, 50, 70]))  # Filtering even numbers from list"
   ]
  },
  {
   "cell_type": "code",
   "execution_count": 5,
   "metadata": {},
   "outputs": [
    {
     "data": {
      "text/plain": [
       "[21, 19, 23]"
      ]
     },
     "execution_count": 5,
     "metadata": {},
     "output_type": "execute_result"
    }
   ],
   "source": [
    "list(myfilter((lambda x: False if x<18 else True),[17,16,15,21,19,23]))  # Filtering numbers>18 from list"
   ]
  },
  {
   "cell_type": "markdown",
   "metadata": {},
   "source": [
    "#### Implement List comprehensions to produce the following lists. <br><br>Write List comprehensions to produce the following Lists.<br><br>['A', 'C', 'A', 'D', 'G', 'I', ’L’, ‘ D’]<br><br>['x', 'xx', 'xxx', 'xxxx', 'y', 'yy', 'yyy', 'yyyy', 'z', 'zz', 'zzz', 'zzzz']<br><br>['x', 'y', 'z', 'xx', 'yy', 'zz', 'xx', 'yy', 'zz', 'xxxx', 'yyyy', 'zzzz']<br><br>[[2], [3], [4], [3], [4], [5], [4], [5], [6]]<br><br>[[2, 3, 4, 5], [3, 4, 5, 6], [4, 5, 6, 7], [5, 6, 7, 8]]<br><br>[(1, 1), (2, 1), (3, 1), (1, 2), (2, 2), (3, 2), (1, 3), (2, 3), (3, 3)]"
   ]
  },
  {
   "cell_type": "code",
   "execution_count": 6,
   "metadata": {},
   "outputs": [
    {
     "data": {
      "text/plain": [
       "['A', 'C', 'A', 'D', 'G', 'I', 'L', 'D']"
      ]
     },
     "execution_count": 6,
     "metadata": {},
     "output_type": "execute_result"
    }
   ],
   "source": [
    "[letter for letter in 'ACADGILD']"
   ]
  },
  {
   "cell_type": "code",
   "execution_count": 7,
   "metadata": {},
   "outputs": [
    {
     "data": {
      "text/plain": [
       "['x', 'xx', 'xxx', 'xxxx', 'y', 'yy', 'yyy', 'yyyy', 'z', 'zz', 'zzz', 'zzzz']"
      ]
     },
     "execution_count": 7,
     "metadata": {},
     "output_type": "execute_result"
    }
   ],
   "source": [
    "[i*letter for letter in 'xyz' for i in range(1,5)]"
   ]
  },
  {
   "cell_type": "code",
   "execution_count": 8,
   "metadata": {},
   "outputs": [
    {
     "data": {
      "text/plain": [
       "['x', 'y', 'z', 'xx', 'yy', 'zz', 'xx', 'yy', 'zz', 'xxxx', 'yyyy', 'zzzz']"
      ]
     },
     "execution_count": 8,
     "metadata": {},
     "output_type": "execute_result"
    }
   ],
   "source": [
    "[i*letter for i in [1,2,2,4] for letter in 'xyz']"
   ]
  },
  {
   "cell_type": "code",
   "execution_count": 9,
   "metadata": {},
   "outputs": [
    {
     "data": {
      "text/plain": [
       "[[2], [3], [4], [3], [4], [5], [4], [5], [6]]"
      ]
     },
     "execution_count": 9,
     "metadata": {},
     "output_type": "execute_result"
    }
   ],
   "source": [
    "[[i+j] for i in range(2,5) for j in range(0,3)]"
   ]
  },
  {
   "cell_type": "code",
   "execution_count": 10,
   "metadata": {},
   "outputs": [
    {
     "data": {
      "text/plain": [
       "[[2, 3, 4, 5], [3, 4, 5, 6], [4, 5, 6, 7], [5, 6, 7, 8]]"
      ]
     },
     "execution_count": 10,
     "metadata": {},
     "output_type": "execute_result"
    }
   ],
   "source": [
    "[[i+j for i in range(2,6)] for j in range(4)]"
   ]
  },
  {
   "cell_type": "code",
   "execution_count": 11,
   "metadata": {},
   "outputs": [
    {
     "data": {
      "text/plain": [
       "[(1, 1), (2, 1), (3, 1), (1, 2), (2, 2), (3, 2), (1, 3), (2, 3), (3, 3)]"
      ]
     },
     "execution_count": 11,
     "metadata": {},
     "output_type": "execute_result"
    }
   ],
   "source": [
    "[(j,i) for i in range(1,4) for j in range(1,4)]"
   ]
  },
  {
   "cell_type": "markdown",
   "metadata": {},
   "source": [
    "#### 3. Implement a function longestWord() that takes a list of words and returns the longest one."
   ]
  },
  {
   "cell_type": "code",
   "execution_count": 12,
   "metadata": {},
   "outputs": [
    {
     "data": {
      "text/plain": [
       "'machine'"
      ]
     },
     "execution_count": 12,
     "metadata": {},
     "output_type": "execute_result"
    }
   ],
   "source": [
    "def longestWord(l):\n",
    "    temp_list=[]\n",
    "    for word in l:\n",
    "        temp_list.append((len(word),word))\n",
    "    temp_list.sort(reverse=True)\n",
    "    return temp_list[0][1]\n",
    "\n",
    "longestWord(['pig','hive','cat','python','machine','bus'])"
   ]
  },
  {
   "cell_type": "markdown",
   "metadata": {},
   "source": [
    "## Task 2"
   ]
  },
  {
   "cell_type": "markdown",
   "metadata": {},
   "source": [
    "#### 1.1 Write a Python Program(with class concepts) to find the area of the triangle using the below formula.<br><br> area = (s*(s-a)*(s-b)*(s-c)) ** 0.5 <br><br>Function to take the length of the sides of triangle from user should be defined in the parent class and function to calculate the area should be defined in subclass."
   ]
  },
  {
   "cell_type": "code",
   "execution_count": 13,
   "metadata": {},
   "outputs": [],
   "source": [
    "class Parent:\n",
    "    def __init__(self):\n",
    "        self.a=int(input('Enter Triangle side 1 length : '))\n",
    "        self.b=int(input('Enter Triangle side 2 length : '))\n",
    "        self.c=int(input('Enter Triangle side 3 length : '))\n",
    "\n",
    "class Child(Parent):\n",
    "    def __init__(self):\n",
    "        super().__init__()\n",
    "    \n",
    "    def printArea(self):\n",
    "        s = (self.a + self.b + self.c)/2\n",
    "        area = (s * (s-self.a) * (s-self.b) * (s-self.c))**0.5\n",
    "        print('Area of Triangle is '+str(area))        "
   ]
  },
  {
   "cell_type": "code",
   "execution_count": 14,
   "metadata": {},
   "outputs": [
    {
     "name": "stdout",
     "output_type": "stream",
     "text": [
      "Enter Triangle side 1 length : 18\n",
      "Enter Triangle side 2 length : 30\n",
      "Enter Triangle side 3 length : 24\n",
      "Area of Triangle is 216.0\n"
     ]
    }
   ],
   "source": [
    "c = Child()\n",
    "c.printArea()"
   ]
  },
  {
   "cell_type": "markdown",
   "metadata": {},
   "source": [
    "#### 1.2 Write a function filter_long_words() that takes a list of words and an integer n and returns the list of words that are longer than n."
   ]
  },
  {
   "cell_type": "code",
   "execution_count": 15,
   "metadata": {},
   "outputs": [
    {
     "data": {
      "text/plain": [
       "['hive', 'python', 'machine']"
      ]
     },
     "execution_count": 15,
     "metadata": {},
     "output_type": "execute_result"
    }
   ],
   "source": [
    "def filter_long_words(l,n):\n",
    "    words=[word for word in l if len(word)>n]\n",
    "    return words\n",
    "\n",
    "filter_long_words(['pig','hive','cat','python','machine','bus'],3)"
   ]
  },
  {
   "cell_type": "markdown",
   "metadata": {},
   "source": [
    "#### 2.1 Write a Python program using function concept that maps list of words into a list of integers representing the lengths of the corresponding words .<br><br>Hint: If a list [ ab,cde,erty] is passed on to the python function output should come as [2,3,4]. Here 2,3 and 4 are the lengths of the words in the list."
   ]
  },
  {
   "cell_type": "code",
   "execution_count": 16,
   "metadata": {},
   "outputs": [
    {
     "name": "stdout",
     "output_type": "stream",
     "text": [
      "[3, 4, 3, 6, 7, 3]\n"
     ]
    }
   ],
   "source": [
    "def map_word_length(l):\n",
    "    length_of_words = [len(i) for i in l]\n",
    "    return length_of_words\n",
    "\n",
    "print(map_word_length(['pig','hive','cat','python','machine','bus']))"
   ]
  },
  {
   "cell_type": "markdown",
   "metadata": {},
   "source": [
    "#### 2.2 Write a Python function which takes a character (i.e. a string of length 1) and returns True if it is a vowel, False otherwise."
   ]
  },
  {
   "cell_type": "code",
   "execution_count": 17,
   "metadata": {},
   "outputs": [
    {
     "name": "stdout",
     "output_type": "stream",
     "text": [
      "True\n",
      "False\n",
      "True\n"
     ]
    }
   ],
   "source": [
    "def checkVowel(ch):\n",
    "    vowels = ['a','A','e','E','i','I','o','O','u','U']\n",
    "    if ch in vowels:\n",
    "        return True\n",
    "    else:\n",
    "        return False\n",
    "\n",
    "print(checkVowel('A'))\n",
    "print(checkVowel('w'))\n",
    "print(checkVowel('i'))"
   ]
  }
 ],
 "metadata": {
  "kernelspec": {
   "display_name": "Python 3",
   "language": "python",
   "name": "python3"
  },
  "language_info": {
   "codemirror_mode": {
    "name": "ipython",
    "version": 3
   },
   "file_extension": ".py",
   "mimetype": "text/x-python",
   "name": "python",
   "nbconvert_exporter": "python",
   "pygments_lexer": "ipython3",
   "version": "3.6.9"
  }
 },
 "nbformat": 4,
 "nbformat_minor": 2
}
