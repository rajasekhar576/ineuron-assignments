{
 "cells": [
  {
   "cell_type": "markdown",
   "metadata": {},
   "source": [
    "## Assignment-3"
   ]
  },
  {
   "cell_type": "markdown",
   "metadata": {},
   "source": [
    "### Task-1"
   ]
  },
  {
   "cell_type": "markdown",
   "metadata": {},
   "source": [
    "#### 1. Write a function to compute 5/0 and use try/except to catch the exceptions."
   ]
  },
  {
   "cell_type": "code",
   "execution_count": 1,
   "metadata": {},
   "outputs": [
    {
     "name": "stdout",
     "output_type": "stream",
     "text": [
      "Enter numerator: 5\n",
      "Enter denominator: 0\n",
      "Cannot divide 5 by 0\n"
     ]
    }
   ],
   "source": [
    "def div(a,b):\n",
    "    try:\n",
    "        i = int(a)/int(b)\n",
    "        print('{}/{}={}'.format(a,b,i))\n",
    "    except ZeroDivisionError:\n",
    "        print('Cannot divide {} by {}'.format(a,b))\n",
    "    except:\n",
    "        print('Enter values correctly')\n",
    "\n",
    "div(input('Enter numerator: '), input('Enter denominator: '))"
   ]
  },
  {
   "cell_type": "markdown",
   "metadata": {},
   "source": [
    "#### 2. Implement a Python program to generate all sentences where subject is in [\"Americans\",\"Indians\"] and verb is in [\"Play\", \"watch\"] and the object is in [\"Baseball\",\"cricket\"]."
   ]
  },
  {
   "cell_type": "code",
   "execution_count": 2,
   "metadata": {},
   "outputs": [
    {
     "name": "stdout",
     "output_type": "stream",
     "text": [
      "Americans play Basketball.\n",
      "Americans play Cricket.\n",
      "Americans watch Basketball.\n",
      "Americans watch Cricket.\n",
      "Indians play Basketball.\n",
      "Indians play Cricket.\n",
      "Indians watch Basketball.\n",
      "Indians watch Cricket.\n"
     ]
    }
   ],
   "source": [
    "subject = ['Americans','Indians']\n",
    "verb = ['play','watch']\n",
    "object = ['Basketball', 'Cricket']\n",
    "\n",
    "sentences = [(s+\" \"+v+\" \"+o+\".\") for s in subject for v in verb for o in object]\n",
    "\n",
    "for sentence in sentences:\n",
    "    print(sentence)"
   ]
  },
  {
   "cell_type": "markdown",
   "metadata": {},
   "source": [
    "### Task 2"
   ]
  },
  {
   "cell_type": "markdown",
   "metadata": {},
   "source": [
    "#### 1. Write a function so that the columns of the output matrix are powers of the input vector. <br><br>The order of the powers is determined by the increasing boolean argument. Specifically, when increasing is False, the i-th output column is the input vector raised element-wise to the power of N - i - 1."
   ]
  },
  {
   "cell_type": "code",
   "execution_count": 3,
   "metadata": {},
   "outputs": [],
   "source": [
    "import numpy as np\n",
    "\n",
    "def my_vander(v, N=None, increasing=False):\n",
    "    if N is None:\n",
    "        N = len(v)\n",
    "    if increasing:\n",
    "        increasing=True\n",
    "    list_arrays = [v**(N-i-1) for i in range(N)]\n",
    "    if increasing:\n",
    "        list_arrays.reverse()\n",
    "    return np.column_stack(list_arrays)"
   ]
  },
  {
   "cell_type": "code",
   "execution_count": 4,
   "metadata": {},
   "outputs": [
    {
     "name": "stdout",
     "output_type": "stream",
     "text": [
      "[[  1   1   1   1]\n",
      " [  8   4   2   1]\n",
      " [ 27   9   3   1]\n",
      " [125  25   5   1]]\n"
     ]
    }
   ],
   "source": [
    "print(my_vander(np.array([1,2,3,5])))"
   ]
  },
  {
   "cell_type": "code",
   "execution_count": 5,
   "metadata": {},
   "outputs": [
    {
     "name": "stdout",
     "output_type": "stream",
     "text": [
      "[[  1   1   1   1]\n",
      " [  8   4   2   1]\n",
      " [ 27   9   3   1]\n",
      " [125  25   5   1]]\n"
     ]
    }
   ],
   "source": [
    "print(my_vander(np.array([1,2,3,5]), increasing=False))"
   ]
  },
  {
   "cell_type": "code",
   "execution_count": 6,
   "metadata": {},
   "outputs": [
    {
     "name": "stdout",
     "output_type": "stream",
     "text": [
      "[[  1   1   1   1]\n",
      " [  1   2   4   8]\n",
      " [  1   3   9  27]\n",
      " [  1   5  25 125]]\n"
     ]
    }
   ],
   "source": [
    "print(my_vander(np.array([1,2,3,5]), increasing=True))"
   ]
  },
  {
   "cell_type": "code",
   "execution_count": 7,
   "metadata": {},
   "outputs": [
    {
     "name": "stdout",
     "output_type": "stream",
     "text": [
      "[[1 1]\n",
      " [2 1]\n",
      " [3 1]\n",
      " [5 1]]\n"
     ]
    }
   ],
   "source": [
    "print(my_vander(np.array([1,2,3,5]), N=2))"
   ]
  },
  {
   "cell_type": "code",
   "execution_count": 8,
   "metadata": {},
   "outputs": [
    {
     "name": "stdout",
     "output_type": "stream",
     "text": [
      "[[  1   1   1   1   1]\n",
      " [  1   2   4   8  16]\n",
      " [  1   3   9  27  81]\n",
      " [  1   5  25 125 625]]\n"
     ]
    }
   ],
   "source": [
    "print(my_vander(np.array([1,2,3,5]), N=5, increasing=True))"
   ]
  }
 ],
 "metadata": {
  "kernelspec": {
   "display_name": "Python 3",
   "language": "python",
   "name": "python3"
  },
  "language_info": {
   "codemirror_mode": {
    "name": "ipython",
    "version": 3
   },
   "file_extension": ".py",
   "mimetype": "text/x-python",
   "name": "python",
   "nbconvert_exporter": "python",
   "pygments_lexer": "ipython3",
   "version": "3.6.9"
  }
 },
 "nbformat": 4,
 "nbformat_minor": 2
}
